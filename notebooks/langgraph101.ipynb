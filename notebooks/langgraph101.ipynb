{
 "cells": [
  {
   "cell_type": "code",
   "execution_count": null,
   "id": "fa1fbd90",
   "metadata": {},
   "outputs": [
    {
     "name": "stdout",
     "output_type": "stream",
     "text": [
      "The capital of France is Paris.\n",
      "The capital of France is Paris.\n",
      "I don't have real-time weather data, but you can easily check the current weather in Tokyo by using a weather website or app. Typically, these platforms provide up-to-date information on temperature, humidity, precipitation, and forecasts. Would you like some tips on how to find this information?\n",
      "Testing calculator tool\n",
      "\n"
     ]
    }
   ],
   "source": [
    "from dotenv import load_dotenv\n",
    "load_dotenv()\n",
    "\n",
    "from langchain_openai import ChatOpenAI\n",
    "\n",
    "llm = ChatOpenAI(model=\"gpt-4o-mini\", temperature=0.7)\n",
    "response = llm.invoke(\"What is the capital of France?\")\n",
    "print(response.content)\n",
    "\n",
    "from langchain_openai import ChatOpenAI\n",
    "\n",
    "llm = ChatOpenAI(model=\"gpt-4o-mini\", temperature=0.7)\n",
    "response = llm.invoke(\"What is the capital of France?\")\n",
    "print(response.content)\n",
    "\n",
    "from langchain_core.messages import HumanMessage, SystemMessage\n",
    "messages = [\n",
    "    SystemMessage(content=\"You are a helpful assistant that can answer questions about the weather.\"),\n",
    "    HumanMessage(content=\"What is the weather in Tokyo?\")\n",
    "]\n",
    "\n",
    "response = llm.invoke(messages)\n",
    "print(response.content)\n"
   ]
  },
  {
   "cell_type": "code",
   "execution_count": 25,
   "id": "d037fe56",
   "metadata": {},
   "outputs": [
    {
     "name": "stdout",
     "output_type": "stream",
     "text": [
      "Testing calculator tool\n",
      "\n"
     ]
    }
   ],
   "source": [
    "from langchain_core.tools import tool\n",
    "from langchain_community.tools import DuckDuckGoSearchRun\n",
    "\n",
    "@tool\n",
    "def calculator(expression: str) -> str:\n",
    "    \"\"\"Calculate mathematical expressions. Allways use this for any math calculations.\"\"\"\n",
    "    try:\n",
    "        result = eval(expression)\n",
    "        return f\"The result of the expression {expression} is {result}\"\n",
    "    except Exception as e:\n",
    "        return f\"Error calcuating {expression}: {e}\"\n",
    "    \n",
    "\n",
    "search_tool = DuckDuckGoSearchRun()\n",
    "\n",
    "# Bind tools to the LLM\n",
    "tools = [calculator, search_tool]\n",
    "llm_with_tools = llm.bind_tools(tools)\n",
    "\n",
    "print(\"Testing calculator tool\")\n",
    "response = llm_with_tools.invoke(\"What is 25 * 4 + 17?\")\n",
    "print(response.content)"
   ]
  },
  {
   "cell_type": "code",
   "execution_count": 26,
   "id": "9d6ee521",
   "metadata": {},
   "outputs": [
    {
     "data": {
      "text/plain": [
       "AIMessage(content='', additional_kwargs={'tool_calls': [{'id': 'call_1M9wj3z9Mp3aE5FjVIKhnDIr', 'function': {'arguments': '{\"expression\":\"25 * 4 + 17\"}', 'name': 'calculator'}, 'type': 'function'}], 'refusal': None}, response_metadata={'token_usage': {'completion_tokens': 20, 'prompt_tokens': 110, 'total_tokens': 130, 'completion_tokens_details': {'accepted_prediction_tokens': 0, 'audio_tokens': 0, 'reasoning_tokens': 0, 'rejected_prediction_tokens': 0}, 'prompt_tokens_details': {'audio_tokens': 0, 'cached_tokens': 0}}, 'model_name': 'gpt-4o-mini-2024-07-18', 'system_fingerprint': 'fp_34a54ae93c', 'id': 'chatcmpl-ByeiLIKEPl6pXGWqp0YM1ZyhznZvP', 'service_tier': 'default', 'finish_reason': 'tool_calls', 'logprobs': None}, id='run--8a5c5f80-4f13-4e76-bcd2-e12dacf80584-0', tool_calls=[{'name': 'calculator', 'args': {'expression': '25 * 4 + 17'}, 'id': 'call_1M9wj3z9Mp3aE5FjVIKhnDIr', 'type': 'tool_call'}], usage_metadata={'input_tokens': 110, 'output_tokens': 20, 'total_tokens': 130, 'input_token_details': {'audio': 0, 'cache_read': 0}, 'output_token_details': {'audio': 0, 'reasoning': 0}})"
      ]
     },
     "execution_count": 26,
     "metadata": {},
     "output_type": "execute_result"
    }
   ],
   "source": [
    "response"
   ]
  },
  {
   "cell_type": "code",
   "execution_count": 27,
   "id": "d79aac81",
   "metadata": {},
   "outputs": [],
   "source": [
    "tool_map = {\n",
    "    \"calculator\": calculator,\n",
    "    \"duckduckgo_search\": DuckDuckGoSearchRun()\n",
    "}"
   ]
  },
  {
   "cell_type": "code",
   "execution_count": 28,
   "id": "b01aa75d",
   "metadata": {},
   "outputs": [],
   "source": [
    "def handle_tool_calls(response, tool_map):\n",
    "    \"\"\"Executes all tool calls in the LLM response using the tool map.\"\"\"\n",
    "    if not getattr(response, \"tool_calls\", None):\n",
    "        return response\n",
    "    print(f\"Tool calls requested: {len(response.tool_calls)}\")\n",
    "    for tool_call in response.tool_calls:\n",
    "        tool_name = tool_call[\"name\"]\n",
    "        args = tool_call[\"args\"]\n",
    "\n",
    "        print(f\"Tool: {tool_name}\")\n",
    "        print(f\"Args: {args}\")\n",
    "        \n",
    "        tool = tool_map.get(tool_name)\n",
    "        if tool:\n",
    "            result = tool.invoke(args)\n",
    "            preview = result[:200] + \"...\" if isinstance(result, str) and len(result) > 200 else result\n",
    "            print(f\"Tool result: {preview}\")"
   ]
  },
  {
   "cell_type": "code",
   "execution_count": 29,
   "id": "5819558a",
   "metadata": {},
   "outputs": [
    {
     "name": "stdout",
     "output_type": "stream",
     "text": [
      "Query: What is 25 * 4 + 17?\n",
      "Response: \n",
      "Tool calls requested: 1\n",
      "Tool: calculator\n",
      "Args: {'expression': '25 * 4 + 17'}\n",
      "Tool result: The result of the expression 25 * 4 + 17 is 117\n",
      "\n",
      "\n",
      "Query: Search for the latest news abount Artificial Intelligence.\n",
      "Response: \n",
      "Tool calls requested: 1\n",
      "Tool: duckduckgo_search\n",
      "Args: {'query': 'latest news about Artificial Intelligence'}\n"
     ]
    },
    {
     "name": "stderr",
     "output_type": "stream",
     "text": [
      "c:\\Portfolio\\langgraph_exploration\\.venv\\Lib\\site-packages\\langchain_community\\utilities\\duckduckgo_search.py:63: RuntimeWarning: This package (`duckduckgo_search`) has been renamed to `ddgs`! Use `pip install ddgs` instead.\n",
      "  with DDGS() as ddgs:\n"
     ]
    },
    {
     "name": "stdout",
     "output_type": "stream",
     "text": [
      "Tool result: Jun 25, 2025 · Artificial Intelligence News. Everything on AI including futuristic robots with artificial intelligence, computer models of human intelligence and more. A Taruma Baterias oferece bateri...\n",
      "\n",
      "\n"
     ]
    }
   ],
   "source": [
    "def test_llm_tool(query):\n",
    "    print(f\"Query: {query}\")\n",
    "    response = llm_with_tools.invoke(query)\n",
    "    print(f\"Response: {getattr(response, 'content', response)}\")\n",
    "    handle_tool_calls(response, tool_map)\n",
    "    print(\"\\n\")\n",
    "\n",
    "\n",
    "test_llm_tool(\"What is 25 * 4 + 17?\")\n",
    "test_llm_tool(\"Search for the latest news abount Artificial Intelligence.\")"
   ]
  },
  {
   "cell_type": "markdown",
   "id": "bba45b4d",
   "metadata": {},
   "source": [
    "Structured Output"
   ]
  },
  {
   "cell_type": "code",
   "execution_count": null,
   "id": "5b649deb",
   "metadata": {},
   "outputs": [
    {
     "name": "stdout",
     "output_type": "stream",
     "text": [
      "Testing structured output\n",
      "name='John Smith' age=30 occupation='software engineer' skills=['Python', 'SQL', 'machine learning']\n",
      "Name:  John Smith\n"
     ]
    }
   ],
   "source": [
    "from pydantic import BaseModel, Field\n",
    "from typing import List, Optional\n",
    "\n",
    "class PersonInfo(BaseModel):\n",
    "    \"\"\"Information about a person.\"\"\"\n",
    "    name: str = Field(description=\"The full name of the person.\")\n",
    "    age: int = Field(description=\"The age of the person.\")\n",
    "    occupation: Optional[str] = Field(description=\"The occupation of the person.\")\n",
    "    skills: List[str] = Field(description=\"The skills of the person.\")\n",
    "\n",
    "structured_llm = llm.with_structured_output(PersonInfo)\n",
    "\n",
    "\n",
    "#Test with person info\n",
    "print(\"Testing structured output\")\n",
    "\n",
    "person_prompt = \"\"\"\n",
    "Extract information about the person:\n",
    "\"John Smith is 30 years old and works as a software engineer. He is skilled in Python, SQL, and machine learning.\"\n",
    "\"\"\"\n",
    "\n",
    "response = structured_llm.invoke(person_prompt)\n",
    "print(response)\n",
    "\n",
    "\n",
    "print(\"Name: \", response.name)\n",
    "print(\"Age: \", response.age)\n",
    "print(\"Occupation: \", response.occupation)\n",
    "print(\"Skills: \", \", \".join(response.skills))"
   ]
  }
 ],
 "metadata": {
  "kernelspec": {
   "display_name": ".venv",
   "language": "python",
   "name": "python3"
  },
  "language_info": {
   "codemirror_mode": {
    "name": "ipython",
    "version": 3
   },
   "file_extension": ".py",
   "mimetype": "text/x-python",
   "name": "python",
   "nbconvert_exporter": "python",
   "pygments_lexer": "ipython3",
   "version": "3.13.2"
  }
 },
 "nbformat": 4,
 "nbformat_minor": 5
}
