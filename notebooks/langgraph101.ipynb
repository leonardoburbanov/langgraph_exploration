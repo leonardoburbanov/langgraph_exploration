{
 "cells": [
  {
   "cell_type": "code",
   "execution_count": 1,
   "id": "fa1fbd90",
   "metadata": {},
   "outputs": [
    {
     "name": "stdout",
     "output_type": "stream",
     "text": [
      "The capital of France is Paris.\n",
      "The capital of France is Paris.\n",
      "I'm unable to provide real-time weather updates. However, you can easily check the current weather in Tokyo by using a weather website or app, or by searching \"Tokyo weather\" in your preferred search engine. If you need historical weather information or general climate information about Tokyo, feel free to ask!\n"
     ]
    }
   ],
   "source": [
    "from dotenv import load_dotenv\n",
    "load_dotenv()\n",
    "\n",
    "from langchain_openai import ChatOpenAI\n",
    "\n",
    "llm = ChatOpenAI(model=\"gpt-4o-mini\", temperature=0.7)\n",
    "response = llm.invoke(\"What is the capital of France?\")\n",
    "print(response.content)\n",
    "\n",
    "from langchain_openai import ChatOpenAI\n",
    "\n",
    "llm = ChatOpenAI(model=\"gpt-4o-mini\", temperature=0.7)\n",
    "response = llm.invoke(\"What is the capital of France?\")\n",
    "print(response.content)\n",
    "\n",
    "from langchain_core.messages import HumanMessage, SystemMessage\n",
    "messages = [\n",
    "    SystemMessage(content=\"You are a helpful assistant that can answer questions about the weather.\"),\n",
    "    HumanMessage(content=\"What is the weather in Tokyo?\")\n",
    "]\n",
    "\n",
    "response = llm.invoke(messages)\n",
    "print(response.content)\n"
   ]
  },
  {
   "cell_type": "code",
   "execution_count": 2,
   "id": "d037fe56",
   "metadata": {},
   "outputs": [
    {
     "name": "stdout",
     "output_type": "stream",
     "text": [
      "Testing calculator tool\n",
      "\n"
     ]
    }
   ],
   "source": [
    "from langchain_core.tools import tool\n",
    "from langchain_community.tools import DuckDuckGoSearchRun\n",
    "\n",
    "@tool\n",
    "def calculator(expression: str) -> str:\n",
    "    \"\"\"Calculate mathematical expressions. Allways use this for any math calculations.\"\"\"\n",
    "    try:\n",
    "        result = eval(expression)\n",
    "        return f\"The result of the expression {expression} is {result}\"\n",
    "    except Exception as e:\n",
    "        return f\"Error calcuating {expression}: {e}\"\n",
    "    \n",
    "\n",
    "search_tool = DuckDuckGoSearchRun()\n",
    "\n",
    "# Bind tools to the LLM\n",
    "tools = [calculator, search_tool]\n",
    "llm_with_tools = llm.bind_tools(tools)\n",
    "\n",
    "print(\"Testing calculator tool\")\n",
    "response = llm_with_tools.invoke(\"What is 25 * 4 + 17?\")\n",
    "print(response.content)"
   ]
  },
  {
   "cell_type": "code",
   "execution_count": 3,
   "id": "9d6ee521",
   "metadata": {},
   "outputs": [
    {
     "name": "stderr",
     "output_type": "stream",
     "text": [
      "C:\\Users\\DELL\\AppData\\Local\\Temp\\ipykernel_11936\\3202056457.py:1: PydanticDeprecatedSince20: The `dict` method is deprecated; use `model_dump` instead. Deprecated in Pydantic V2.0 to be removed in V3.0. See Pydantic V2 Migration Guide at https://errors.pydantic.dev/2.11/migration/\n",
      "  response.dict()\n"
     ]
    },
    {
     "data": {
      "text/plain": [
       "{'content': '',\n",
       " 'additional_kwargs': {'tool_calls': [{'id': 'call_HK9sGxYxN6fLJPL6LwUi0Who',\n",
       "    'function': {'arguments': '{\"expression\":\"25 * 4 + 17\"}',\n",
       "     'name': 'calculator'},\n",
       "    'type': 'function'}],\n",
       "  'refusal': None},\n",
       " 'response_metadata': {'token_usage': {'completion_tokens': 20,\n",
       "   'prompt_tokens': 110,\n",
       "   'total_tokens': 130,\n",
       "   'completion_tokens_details': {'accepted_prediction_tokens': 0,\n",
       "    'audio_tokens': 0,\n",
       "    'reasoning_tokens': 0,\n",
       "    'rejected_prediction_tokens': 0},\n",
       "   'prompt_tokens_details': {'audio_tokens': 0, 'cached_tokens': 0}},\n",
       "  'model_name': 'gpt-4o-mini-2024-07-18',\n",
       "  'system_fingerprint': 'fp_34a54ae93c',\n",
       "  'id': 'chatcmpl-C3Lu09vJDwIqBa0OmuV0eO4YCFNbI',\n",
       "  'service_tier': 'default',\n",
       "  'finish_reason': 'tool_calls',\n",
       "  'logprobs': None},\n",
       " 'type': 'ai',\n",
       " 'name': None,\n",
       " 'id': 'run--43d59e73-d167-4ed9-9e0f-11def887dae0-0',\n",
       " 'example': False,\n",
       " 'tool_calls': [{'name': 'calculator',\n",
       "   'args': {'expression': '25 * 4 + 17'},\n",
       "   'id': 'call_HK9sGxYxN6fLJPL6LwUi0Who',\n",
       "   'type': 'tool_call'}],\n",
       " 'invalid_tool_calls': [],\n",
       " 'usage_metadata': {'input_tokens': 110,\n",
       "  'output_tokens': 20,\n",
       "  'total_tokens': 130,\n",
       "  'input_token_details': {'audio': 0, 'cache_read': 0},\n",
       "  'output_token_details': {'audio': 0, 'reasoning': 0}}}"
      ]
     },
     "execution_count": 3,
     "metadata": {},
     "output_type": "execute_result"
    }
   ],
   "source": [
    "response.dict()"
   ]
  },
  {
   "cell_type": "code",
   "execution_count": 4,
   "id": "61067ebf",
   "metadata": {},
   "outputs": [
    {
     "data": {
      "text/plain": [
       "[{'name': 'calculator',\n",
       "  'args': {'expression': '25 * 4 + 17'},\n",
       "  'id': 'call_HK9sGxYxN6fLJPL6LwUi0Who',\n",
       "  'type': 'tool_call'}]"
      ]
     },
     "execution_count": 4,
     "metadata": {},
     "output_type": "execute_result"
    }
   ],
   "source": [
    "response.tool_calls"
   ]
  },
  {
   "cell_type": "code",
   "execution_count": 5,
   "id": "d79aac81",
   "metadata": {},
   "outputs": [],
   "source": [
    "tool_map = {\n",
    "    \"calculator\": calculator,\n",
    "    \"duckduckgo_search\": DuckDuckGoSearchRun()\n",
    "}"
   ]
  },
  {
   "cell_type": "code",
   "execution_count": 6,
   "id": "b01aa75d",
   "metadata": {},
   "outputs": [],
   "source": [
    "def handle_tool_calls(response, tool_map):\n",
    "    \"\"\"Executes all tool calls in the LLM response using the tool map.\"\"\"\n",
    "    if not getattr(response, \"tool_calls\", None):\n",
    "        return response\n",
    "    print(f\"Tool calls requested: {len(response.tool_calls)}\")\n",
    "    for tool_call in response.tool_calls:\n",
    "        tool_name = tool_call[\"name\"]\n",
    "        args = tool_call[\"args\"]\n",
    "\n",
    "        print(f\"Tool: {tool_name}\")\n",
    "        print(f\"Args: {args}\")\n",
    "        \n",
    "        tool = tool_map.get(tool_name)\n",
    "        if tool:\n",
    "            result = tool.invoke(args)\n",
    "            preview = result[:200] + \"...\" if isinstance(result, str) and len(result) > 200 else result\n",
    "            print(f\"Tool result: {preview}\")"
   ]
  },
  {
   "cell_type": "code",
   "execution_count": 7,
   "id": "5819558a",
   "metadata": {},
   "outputs": [
    {
     "name": "stdout",
     "output_type": "stream",
     "text": [
      "Query: What is 25 * 4 + 17?\n",
      "Response: \n",
      "Tool calls requested: 1\n",
      "Tool: calculator\n",
      "Args: {'expression': '25 * 4 + 17'}\n",
      "Tool result: The result of the expression 25 * 4 + 17 is 117\n",
      "\n",
      "\n",
      "Query: Search for the latest news abount Artificial Intelligence.\n",
      "Response: \n",
      "Tool calls requested: 1\n",
      "Tool: duckduckgo_search\n",
      "Args: {'query': 'latest news about Artificial Intelligence'}\n"
     ]
    },
    {
     "name": "stderr",
     "output_type": "stream",
     "text": [
      "c:\\Portfolio\\langgraph_exploration\\.venv\\Lib\\site-packages\\langchain_community\\utilities\\duckduckgo_search.py:63: RuntimeWarning: This package (`duckduckgo_search`) has been renamed to `ddgs`! Use `pip install ddgs` instead.\n",
      "  with DDGS() as ddgs:\n"
     ]
    },
    {
     "name": "stdout",
     "output_type": "stream",
     "text": [
      "Tool result: Find contact information for Mindpy. Learn about their Mental Health & Rehabilitation Facilities, Healthcare Services market … Homepage > Grocery Retail > Indya Foods Company Name Indya Foods Main Ind...\n",
      "\n",
      "\n"
     ]
    }
   ],
   "source": [
    "def test_llm_tool(query):\n",
    "    print(f\"Query: {query}\")\n",
    "    response = llm_with_tools.invoke(query)\n",
    "    print(f\"Response: {getattr(response, 'content', response)}\")\n",
    "    handle_tool_calls(response, tool_map)\n",
    "    print(\"\\n\")\n",
    "\n",
    "\n",
    "test_llm_tool(\"What is 25 * 4 + 17?\")\n",
    "test_llm_tool(\"Search for the latest news abount Artificial Intelligence.\")"
   ]
  },
  {
   "cell_type": "markdown",
   "id": "bba45b4d",
   "metadata": {},
   "source": [
    "Structured Output"
   ]
  },
  {
   "cell_type": "code",
   "execution_count": 8,
   "id": "5b649deb",
   "metadata": {},
   "outputs": [
    {
     "name": "stdout",
     "output_type": "stream",
     "text": [
      "Testing structured output\n",
      "name='John Smith' age=30 occupation='software engineer' skills=['Python', 'SQL', 'machine learning']\n",
      "Name:  John Smith\n",
      "Age:  30\n",
      "Occupation:  software engineer\n",
      "Skills:  Python, SQL, machine learning\n"
     ]
    }
   ],
   "source": [
    "from pydantic import BaseModel, Field\n",
    "from typing import List, Optional\n",
    "\n",
    "class PersonInfo(BaseModel):\n",
    "    \"\"\"Information about a person.\"\"\"\n",
    "    name: str = Field(description=\"The full name of the person.\")\n",
    "    age: int = Field(description=\"The age of the person.\")\n",
    "    occupation: Optional[str] = Field(description=\"The occupation of the person.\")\n",
    "    skills: List[str] = Field(description=\"The skills of the person.\")\n",
    "\n",
    "structured_llm = llm.with_structured_output(PersonInfo)\n",
    "\n",
    "\n",
    "#Test with person info\n",
    "print(\"Testing structured output\")\n",
    "\n",
    "person_prompt = \"\"\"\n",
    "Extract information about the person:\n",
    "\"John Smith is 30 years old and works as a software engineer. He is skilled in Python, SQL, and machine learning.\"\n",
    "\"\"\"\n",
    "\n",
    "response = structured_llm.invoke(person_prompt)\n",
    "print(response)\n",
    "\n",
    "\n",
    "print(\"Name: \", response.name)\n",
    "print(\"Age: \", response.age)\n",
    "print(\"Occupation: \", response.occupation)\n",
    "print(\"Skills: \", \", \".join(response.skills))"
   ]
  },
  {
   "cell_type": "markdown",
   "id": "6493f753",
   "metadata": {},
   "source": [
    "Langgraph Básico"
   ]
  },
  {
   "cell_type": "code",
   "execution_count": 9,
   "id": "b897c8e1",
   "metadata": {},
   "outputs": [],
   "source": [
    "from typing import Annotated, TypedDict\n",
    "from langchain_core.messages import BaseMessage, HumanMessage, AIMessage\n",
    "from langgraph.graph.message import add_messages\n",
    "\n",
    "class State(TypedDict):\n",
    "    messages: Annotated[list[BaseMessage], add_messages]\n",
    "\n",
    "llm = ChatOpenAI(model=\"gpt-4o-mini\", temperature=0.7)"
   ]
  },
  {
   "cell_type": "code",
   "execution_count": 10,
   "id": "94b69a7a",
   "metadata": {},
   "outputs": [
    {
     "name": "stdout",
     "output_type": "stream",
     "text": [
      "Chatbot node function created\n"
     ]
    }
   ],
   "source": [
    "def chatbot_node(state: State) -> State:\n",
    "    \"\"\"The main chatbot node that processes messages and generates responses.\"\"\"\n",
    "    response = llm.invoke(state[\"messages\"])\n",
    "    return {\"messages\": [response]}\n",
    "\n",
    "print(\"Chatbot node function created\")"
   ]
  },
  {
   "cell_type": "code",
   "execution_count": 11,
   "id": "b7bffe4e",
   "metadata": {},
   "outputs": [],
   "source": [
    "from langgraph.graph import StateGraph, START, END"
   ]
  },
  {
   "cell_type": "code",
   "execution_count": 12,
   "id": "9988879f",
   "metadata": {},
   "outputs": [],
   "source": [
    "graph_builder = StateGraph(State)\n",
    "\n",
    "graph_builder.add_node(\"chatbot\", chatbot_node)\n",
    "\n",
    "graph_builder.add_edge(START, \"chatbot\")\n",
    "graph_builder.add_edge(\"chatbot\", END)\n",
    "\n",
    "\n",
    "graph = graph_builder.compile()"
   ]
  },
  {
   "cell_type": "code",
   "execution_count": 13,
   "id": "8ea9c2f3",
   "metadata": {},
   "outputs": [],
   "source": [
    "img = graph.get_graph(xray=True).draw_mermaid_png()\n",
    "with open(\"graph.png\", \"wb\") as f:\n",
    "    f.write(img)"
   ]
  },
  {
   "cell_type": "code",
   "execution_count": 14,
   "id": "15ead163",
   "metadata": {},
   "outputs": [
    {
     "data": {
      "image/png": "[encoded data removed]",
      "text/plain": [
       "<IPython.core.display.Image object>"
      ]
     },
     "metadata": {},
     "output_type": "display_data"
    }
   ],
   "source": [
    "from IPython.display import Image, display\n",
    "display(Image(\"graph.png\"))"
   ]
  },
  {
   "cell_type": "code",
   "execution_count": 15,
   "id": "062dcf82",
   "metadata": {},
   "outputs": [
    {
     "name": "stdout",
     "output_type": "stream",
     "text": [
      "User: Hello! My name is Leonardo?\n",
      "AI: Hello, Leonardo! How can I assist you today?\n",
      "User: Do you remember my name?\n",
      "AI: I don’t have the ability to remember personal information from previous interactions, including your name. However, you can tell me your name if you'd like! How can I assist you today?\n"
     ]
    }
   ],
   "source": [
    "def test_chatbot(message: str):\n",
    "    \"\"\"Helper function to test our chatbot.\"\"\"\n",
    "    print(f\"User: {message}\")\n",
    "\n",
    "    initial_state = {\"messages\": [HumanMessage(content=message)]}\n",
    "    result = graph.invoke(initial_state)\n",
    "\n",
    "    ai_response = result[\"messages\"][-1].content\n",
    "    print(f\"AI: {ai_response}\")\n",
    "    return result\n",
    "\n",
    "test_cases = [\n",
    "    \"Hello! My name is Leonardo?\",\n",
    "    \"Do you remember my name?\"\n",
    "]\n",
    "\n",
    "for test_message in test_cases:\n",
    "    test_chatbot(test_message)"
   ]
  },
  {
   "cell_type": "code",
   "execution_count": 16,
   "id": "02700e84",
   "metadata": {},
   "outputs": [
    {
     "data": {
      "text/plain": [
       "{'messages': [HumanMessage(content='hola', additional_kwargs={}, response_metadata={}, id='f74a5bff-a79b-4807-ad4c-376b06ae0d91'),\n",
       "  AIMessage(content='¡Hola! ¿Cómo puedo ayudarte hoy?', additional_kwargs={'refusal': None}, response_metadata={'token_usage': {'completion_tokens': 9, 'prompt_tokens': 8, 'total_tokens': 17, 'completion_tokens_details': {'accepted_prediction_tokens': 0, 'audio_tokens': 0, 'reasoning_tokens': 0, 'rejected_prediction_tokens': 0}, 'prompt_tokens_details': {'audio_tokens': 0, 'cached_tokens': 0}}, 'model_name': 'gpt-4o-mini-2024-07-18', 'system_fingerprint': 'fp_34a54ae93c', 'id': 'chatcmpl-C3Lu7CojWfPxEk0g3T83XXh5wTCLL', 'service_tier': 'default', 'finish_reason': 'stop', 'logprobs': None}, id='run--9c4c9855-9c39-42d5-a4fa-d250c22f5d9e-0', usage_metadata={'input_tokens': 8, 'output_tokens': 9, 'total_tokens': 17, 'input_token_details': {'audio': 0, 'cache_read': 0}, 'output_token_details': {'audio': 0, 'reasoning': 0}})]}"
      ]
     },
     "execution_count": 16,
     "metadata": {},
     "output_type": "execute_result"
    }
   ],
   "source": [
    "config = {\"configurable\": {\"thread_id\": \"t1\"}}\n",
    "\n",
    "# Ejecuta al menos una vez para que exista un checkpoint\n",
    "graph.invoke({\"messages\": [{\"role\": \"user\", \"content\": \"hola\"}]}, config=config)"
   ]
  },
  {
   "cell_type": "markdown",
   "id": "ea072c2f",
   "metadata": {},
   "source": [
    "Adding memory"
   ]
  },
  {
   "cell_type": "code",
   "execution_count": 17,
   "id": "c0b92919",
   "metadata": {},
   "outputs": [],
   "source": [
    "from langgraph.checkpoint.memory import MemorySaver"
   ]
  },
  {
   "cell_type": "code",
   "execution_count": 18,
   "id": "2b854d3f",
   "metadata": {},
   "outputs": [
    {
     "name": "stdout",
     "output_type": "stream",
     "text": [
      "Memory added to chatbot\n"
     ]
    }
   ],
   "source": [
    "memory = MemorySaver()\n",
    "\n",
    "graph_with_memory = graph_builder.compile(checkpointer=memory)\n",
    "\n",
    "print(\"Memory added to chatbot\")\n",
    "\n",
    "def chat_with_memory(message: str, thread_id: str):\n",
    "    \"\"\"Chat function with memory\"\"\"\n",
    "    print(f\"\\n User: {message}\")\n",
    "\n",
    "    config = {\"configurable\": {\"thread_id\": thread_id}}\n",
    "\n",
    "    initial_state = {\"messages\": [HumanMessage(content=message)]}\n",
    "    result = graph_with_memory.invoke(initial_state, config)\n",
    "\n",
    "    ai_response = result[\"messages\"][-1].content\n",
    "    print(f\"AI: {ai_response}\")\n",
    "    return result"
   ]
  },
  {
   "cell_type": "code",
   "execution_count": 19,
   "id": "d20e2845",
   "metadata": {},
   "outputs": [
    {
     "name": "stdout",
     "output_type": "stream",
     "text": [
      "\n",
      " Testing Conversation with Memory:\n",
      "\n",
      " User: Hello! My name is Leonardo\n",
      "AI: Hello, Leonardo! How can I assist you today?\n",
      "\n",
      " User: What is my name?\n",
      "AI: Your name is Leonardo. How can I help you today?\n"
     ]
    },
    {
     "data": {
      "text/plain": [
       "{'messages': [HumanMessage(content='Hello! My name is Leonardo', additional_kwargs={}, response_metadata={}, id='e8b94859-4210-4268-917d-6abe1910d182'),\n",
       "  AIMessage(content='Hello, Leonardo! How can I assist you today?', additional_kwargs={'refusal': None}, response_metadata={'token_usage': {'completion_tokens': 11, 'prompt_tokens': 13, 'total_tokens': 24, 'completion_tokens_details': {'accepted_prediction_tokens': 0, 'audio_tokens': 0, 'reasoning_tokens': 0, 'rejected_prediction_tokens': 0}, 'prompt_tokens_details': {'audio_tokens': 0, 'cached_tokens': 0}}, 'model_name': 'gpt-4o-mini-2024-07-18', 'system_fingerprint': 'fp_62a23a81ef', 'id': 'chatcmpl-C3Lu7ewzaRCHue3EkB6d8uPiAZ8P2', 'service_tier': 'default', 'finish_reason': 'stop', 'logprobs': None}, id='run--a0ef867a-b9e6-4652-9c2f-18599bd85748-0', usage_metadata={'input_tokens': 13, 'output_tokens': 11, 'total_tokens': 24, 'input_token_details': {'audio': 0, 'cache_read': 0}, 'output_token_details': {'audio': 0, 'reasoning': 0}}),\n",
       "  HumanMessage(content='What is my name?', additional_kwargs={}, response_metadata={}, id='f829d5ae-9429-4a09-9c38-3acf17abae72'),\n",
       "  AIMessage(content='Your name is Leonardo. How can I help you today?', additional_kwargs={'refusal': None}, response_metadata={'token_usage': {'completion_tokens': 12, 'prompt_tokens': 37, 'total_tokens': 49, 'completion_tokens_details': {'accepted_prediction_tokens': 0, 'audio_tokens': 0, 'reasoning_tokens': 0, 'rejected_prediction_tokens': 0}, 'prompt_tokens_details': {'audio_tokens': 0, 'cached_tokens': 0}}, 'model_name': 'gpt-4o-mini-2024-07-18', 'system_fingerprint': 'fp_34a54ae93c', 'id': 'chatcmpl-C3Lu8OVwUmqmRMtPubjyJdQ26ugnt', 'service_tier': 'default', 'finish_reason': 'stop', 'logprobs': None}, id='run--ce235a5e-a397-471f-9588-5bd2c202661f-0', usage_metadata={'input_tokens': 37, 'output_tokens': 12, 'total_tokens': 49, 'input_token_details': {'audio': 0, 'cache_read': 0}, 'output_token_details': {'audio': 0, 'reasoning': 0}})]}"
      ]
     },
     "execution_count": 19,
     "metadata": {},
     "output_type": "execute_result"
    }
   ],
   "source": [
    "print(\"\\n Testing Conversation with Memory:\")\n",
    "\n",
    "chat_with_memory(\"Hello! My name is Leonardo\", thread_id=\"thead-1\")\n",
    "chat_with_memory(\"What is my name?\", thread_id=\"thead-1\")\n"
   ]
  },
  {
   "cell_type": "code",
   "execution_count": 20,
   "id": "3f16c554",
   "metadata": {},
   "outputs": [
    {
     "data": {
      "text/plain": [
       "StateSnapshot(values={}, next=(), config={'configurable': {'thread_id': 't1'}}, metadata=None, created_at=None, parent_config=None, tasks=(), interrupts=())"
      ]
     },
     "execution_count": 20,
     "metadata": {},
     "output_type": "execute_result"
    }
   ],
   "source": [
    "graph_with_memory.get_state(config = {\"configurable\": {\"thread_id\": \"t1\"}})"
   ]
  },
  {
   "cell_type": "markdown",
   "id": "7808ac5a",
   "metadata": {},
   "source": [
    "LangGraph Agent with Tools"
   ]
  },
  {
   "cell_type": "code",
   "execution_count": 21,
   "id": "df24acfd",
   "metadata": {},
   "outputs": [],
   "source": [
    "from typing import TypedDict\n",
    "from langgraph.graph.message import add_messages\n",
    "from langchain_core.messages import BaseMessage\n",
    "\n",
    "class AgentState(TypedDict):\n",
    "    \"\"\"State for our two-node agent\"\"\"\n",
    "    messages: Annotated[list[BaseMessage], add_messages]\n",
    "\n",
    "llm = ChatOpenAI(model=\"gpt-4o-mini\", temperature=0.7)\n",
    "llm_with_tools = llm.bind_tools(tools)"
   ]
  },
  {
   "cell_type": "code",
   "execution_count": 22,
   "id": "877bc471",
   "metadata": {},
   "outputs": [],
   "source": [
    "def chatbot_node(state: AgentState) -> AgentState:\n",
    "    \"\"\"The chatbot node decides whether to use tools or provide direct responses\"\"\"\n",
    "    messages = state[\"messages\"]\n",
    "\n",
    "\n",
    "    system_message = \"\"\"\n",
    "    You are a helpful assistant. You have access to web search and calculator tools.\n",
    "\n",
    "    Use the web_search tool when:\n",
    "    - Asked about current events, news, or recent information.\n",
    "    - Need to find specific facts or data.\n",
    "    - Asked about real-time information (weather, stock prices, etc.)\n",
    "\n",
    "    Use the calculator tool when:\n",
    "    - Asked to perform mathematical calculations.\n",
    "    - Need to solve math problems.\n",
    "\n",
    "    For general knowledge questions that don't require real-time data, answer directly.\n",
    "    Be helpful and conversational in your responses.\n",
    "    \"\"\"\n",
    "\n",
    "    all_messages = [\n",
    "        {\"role\": \"system\", \"content\": system_message}\n",
    "    ] + messages\n",
    "\n",
    "    response = llm_with_tools.invoke(all_messages)\n",
    "\n",
    "    return {\"messages\": [response]}"
   ]
  },
  {
   "cell_type": "code",
   "execution_count": 23,
   "id": "193010aa",
   "metadata": {},
   "outputs": [],
   "source": [
    "from langgraph.prebuilt import ToolNode\n",
    "from typing import Literal"
   ]
  },
  {
   "cell_type": "code",
   "execution_count": 24,
   "id": "4dedd58c",
   "metadata": {},
   "outputs": [
    {
     "data": {
      "text/plain": [
       "[StructuredTool(name='calculator', description='Calculate mathematical expressions. Allways use this for any math calculations.', args_schema=<class 'langchain_core.utils.pydantic.calculator'>, func=<function calculator at 0x000001AB0AB3E840>),\n",
       " DuckDuckGoSearchRun(api_wrapper=DuckDuckGoSearchAPIWrapper(region='wt-wt', safesearch='moderate', time='y', max_results=5, backend='auto', source='text'))]"
      ]
     },
     "execution_count": 24,
     "metadata": {},
     "output_type": "execute_result"
    }
   ],
   "source": [
    "tools"
   ]
  },
  {
   "cell_type": "code",
   "execution_count": 25,
   "id": "1f1dd37f",
   "metadata": {},
   "outputs": [
    {
     "name": "stdout",
     "output_type": "stream",
     "text": [
      "Tool node created\n"
     ]
    }
   ],
   "source": [
    "tool_node = ToolNode(tools)\n",
    "print(\"Tool node created\")\n",
    "\n",
    "def should_continue(state: AgentState) -> Literal[\"tool\", \"end\"]:\n",
    "    \"\"\"\n",
    "    Determine whether to continue to tools or end the conversation\n",
    "    \"\"\"\n",
    "    messages = state[\"messages\"]\n",
    "    last_message = messages[-1]\n",
    "\n",
    "    if hasattr(last_message, \"tool_calls\") and last_message.tool_calls:\n",
    "        return \"tools\"\n",
    "\n",
    "    return \"end\"\n"
   ]
  },
  {
   "cell_type": "code",
   "execution_count": 26,
   "id": "240f2661",
   "metadata": {},
   "outputs": [],
   "source": [
    "from langgraph.graph import StateGraph, START, END\n",
    "from langgraph.checkpoint.memory import MemorySaver"
   ]
  },
  {
   "cell_type": "code",
   "execution_count": 27,
   "id": "245d65c5",
   "metadata": {},
   "outputs": [
    {
     "name": "stdout",
     "output_type": "stream",
     "text": [
      "Graph compiled with memory \n",
      "\n"
     ]
    }
   ],
   "source": [
    "workflow = StateGraph(AgentState)\n",
    "\n",
    "workflow.add_node(\"chatbot\", chatbot_node)\n",
    "workflow.add_node(\"tools\", tool_node)\n",
    "\n",
    "workflow.add_edge(START, \"chatbot\")\n",
    "\n",
    "workflow.add_conditional_edges(\n",
    "    \"chatbot\",\n",
    "    should_continue,\n",
    "    {\n",
    "        \"tools\": \"tools\",\n",
    "        \"end\": END\n",
    "    }\n",
    ")\n",
    "\n",
    "workflow.add_edge(\"tools\", \"chatbot\")\n",
    "\n",
    "memory = MemorySaver()\n",
    "app = workflow.compile(checkpointer=memory)\n",
    "\n",
    "print(\"Graph compiled with memory \\n\")\n"
   ]
  },
  {
   "cell_type": "code",
   "execution_count": 28,
   "id": "f9febd05",
   "metadata": {},
   "outputs": [
    {
     "data": {
      "image/png": "[encoded data removed]",
      "text/plain": [
       "<IPython.core.display.Image object>"
      ]
     },
     "metadata": {},
     "output_type": "display_data"
    }
   ],
   "source": [
    "# Display the graph\n",
    "from IPython.display import Image, display\n",
    "img = app.get_graph(xray=True).draw_mermaid_png()\n",
    "with open(\"graph.png\", \"wb\") as f:\n",
    "    f.write(img)\n",
    "display(Image(\"graph.png\"))"
   ]
  },
  {
   "cell_type": "code",
   "execution_count": 29,
   "id": "fa7d14b7",
   "metadata": {},
   "outputs": [],
   "source": [
    "from langchain_core.messages import HumanMessage, AIMessage, ToolMessage\n",
    "\n",
    "def chat_with_agent(message: str, thread_id: str):\n",
    "    \"\"\"Chat with the two-node agent\"\"\"\n",
    "    print(f\"\\n User: {message}\")\n",
    "    config = {\"configurable\": {\"thread_id\": thread_id}}\n",
    "\n",
    "    messages_to_process = {\n",
    "        \"messages\": [HumanMessage(content=message)]\n",
    "    }\n",
    "\n",
    "    for event in app.stream(messages_to_process, config):\n",
    "        for value in event.values():\n",
    "            if \"messages\" in value:\n",
    "                last_message = value[\"messages\"][-1]\n",
    "                if hasattr(last_message, \"content\") and last_message.content:\n",
    "                    if isinstance(last_message, AIMessage):\n",
    "                        print(f\"AI: {last_message.content}\")\n",
    "                    elif isinstance(last_message, ToolMessage):\n",
    "                        print(f\"Tool: {last_message.content[:100]}...\")\n"
   ]
  },
  {
   "cell_type": "code",
   "execution_count": 30,
   "id": "55cec8c6",
   "metadata": {},
   "outputs": [
    {
     "name": "stdout",
     "output_type": "stream",
     "text": [
      "\n",
      " User: I am Leonardo\n",
      "AI: Hello, Leonardo! How can I assist you today?\n",
      "\n",
      " User: Do you remember my name?\n",
      "AI: Yes, I remember your name is Leonardo. How can I help you today?\n"
     ]
    }
   ],
   "source": [
    "questions = [\n",
    "    \"I am Leonardo\",\n",
    "    \"Do you remember my name?\",\n",
    "    \"What's 15% of 24?\",\n",
    "    \"What are the latest news about AI?\",\n",
    "    \"Can you tell me more about that?\"\n",
    "]\n",
    "\n",
    "chat_with_agent(\"I am Leonardo\", thread_id=\"thread-4\")\n",
    "chat_with_agent(\"Do you remember my name?\", thread_id=\"thread-4\")\n",
    "\n"
   ]
  },
  {
   "cell_type": "code",
   "execution_count": 31,
   "id": "533f50f0",
   "metadata": {},
   "outputs": [
    {
     "name": "stdout",
     "output_type": "stream",
     "text": [
      "\n",
      " User: What's 15% of 24?\n",
      "Tool: Error calcuating 15% of 24: invalid syntax (<string>, line 1)...\n",
      "Tool: The result of the expression 0.15 * 24 is 3.5999999999999996...\n",
      "AI: 15% of 24 is approximately 3.6. If you need any more calculations or assistance, feel free to ask!\n"
     ]
    }
   ],
   "source": [
    "chat_with_agent(\"What's 15% of 24?\", thread_id=\"thread-4\")\n"
   ]
  },
  {
   "cell_type": "markdown",
   "id": "779e40bd",
   "metadata": {},
   "source": [
    "LangGraph RAG Agent"
   ]
  },
  {
   "cell_type": "code",
   "execution_count": 32,
   "id": "d4853db4",
   "metadata": {},
   "outputs": [],
   "source": [
    "# ── Build & persist a Chroma index ────────────────────────────────\n",
    "from pathlib import Path\n",
    "from langchain_community.document_loaders import PyPDFLoader, Docx2txtLoader\n",
    "from langchain_text_splitters import RecursiveCharacterTextSplitter\n",
    "from langchain_openai import OpenAIEmbeddings\n",
    "from langchain_community.vectorstores import Chroma"
   ]
  },
  {
   "cell_type": "code",
   "execution_count": 33,
   "id": "902f0fc6",
   "metadata": {},
   "outputs": [],
   "source": [
    "SOURCE_DIR   = Path(\"docs\")          # put your files here\n",
    "INDEX_DIR    = Path(\"chroma_db_1\")   # will be created if missing\n",
    "EMBED_MODEL  = \"text-embedding-3-small\""
   ]
  },
  {
   "cell_type": "code",
   "execution_count": 34,
   "id": "e4f3182a",
   "metadata": {},
   "outputs": [
    {
     "name": "stdout",
     "output_type": "stream",
     "text": [
      "docs\\anyoneai_invoice_AzycBrUtJ0Z6R4UZ.pdf\n"
     ]
    }
   ],
   "source": [
    "# Load docs (keep only pdf/docx for brevity)\n",
    "docs = []\n",
    "for f in SOURCE_DIR.glob(\"*.*\"):\n",
    "    print(f)\n",
    "    if f.suffix == \".pdf\":\n",
    "        docs += PyPDFLoader(str(f)).load()\n",
    "    elif f.suffix == \".docx\":\n",
    "        docs += Docx2txtLoader(str(f)).load()"
   ]
  },
  {
   "cell_type": "code",
   "execution_count": 54,
   "id": "a73e503b",
   "metadata": {},
   "outputs": [
    {
     "data": {
      "text/plain": [
       "Document(metadata={'producer': 'PD4ML. HTML to PDF Converter for Java (396)', 'creator': 'PD4ML. HTML to PDF Converter for Java (396)', 'creationdate': \"D:20250808174738Z00'00'\", 'source': 'docs\\\\anyoneai_invoice_AzycBrUtJ0Z6R4UZ.pdf', 'total_pages': 1, 'page': 0, 'page_label': '1'}, page_content='Anyone AI Inc\\nWILMINGTON, Delaware 19803\\nUnited States\\nINVOICE\\nInvoice #—0820253413\\nInvoice Date—Aug 01, 2025\\nInvoice Amount—$300.00 (USD)\\nCustomer ID—CD-4149\\nPAID\\nBILLED TO\\nLeonardo Burbano\\nEcuador\\nSUBSCRIPTION\\nID—S-CD-4149\\nBilling Period—Aug 01 to Aug 31, 2025\\n\\xa0 \\nDESCRIPTION AMOUNT (USD)\\n\\xa0 \\nApplicable (10%) Fee for your Workers Benefits Fund Income \\nApplicable (10%) Fee for your Workers Benefits Fund Income\\n$300.00\\n\\xa0 \\n\\xa0 \\nTotal $300.00\\nPayments($300.00)\\n\\xa0 \\n\\xa0 \\n\\xa0 \\nAmount Due (USD) $0.00\\n\\xa0 \\n\\xa0 \\n\\xa0 \\nPAYMENTS\\n$300.00 (USD) was paid on 06 Aug, 2025 22:08 ART by Visa card ending 2321.\\nNOTES\\nQuestions? Contact us at backoffice@anyoneai.com')"
      ]
     },
     "execution_count": 54,
     "metadata": {},
     "output_type": "execute_result"
    }
   ],
   "source": [
    "docs[0]"
   ]
  },
  {
   "cell_type": "code",
   "execution_count": 35,
   "id": "bf79bf2d",
   "metadata": {},
   "outputs": [
    {
     "name": "stdout",
     "output_type": "stream",
     "text": [
      "✅ Index built → C:\\Portfolio\\langgraph_exploration\\notebooks\\chroma_db_1\n"
     ]
    },
    {
     "name": "stderr",
     "output_type": "stream",
     "text": [
      "C:\\Users\\DELL\\AppData\\Local\\Temp\\ipykernel_11936\\3694848675.py:11: LangChainDeprecationWarning: Since Chroma 0.4.x the manual persistence method is no longer supported as docs are automatically persisted.\n",
      "  vectordb.persist()\n"
     ]
    }
   ],
   "source": [
    "# Split & embed\n",
    "chunks     = RecursiveCharacterTextSplitter(chunk_size=1_000, chunk_overlap=200).split_documents(docs)\n",
    "embeddings = OpenAIEmbeddings(model=EMBED_MODEL)\n",
    "\n",
    "vectordb = Chroma.from_documents(\n",
    "    documents         = chunks,\n",
    "    embedding         = embeddings,\n",
    "    persist_directory = str(INDEX_DIR),\n",
    "    collection_name   = \"kb_collection\",\n",
    ")\n",
    "vectordb.persist()\n",
    "print(\"✅ Index built →\", INDEX_DIR.resolve())"
   ]
  },
  {
   "cell_type": "code",
   "execution_count": 36,
   "id": "fe7a146c",
   "metadata": {},
   "outputs": [],
   "source": [
    "retriever = vectordb.as_retriever(search_kwargs={\"k\": 2})\n",
    "\n",
    "@tool\n",
    "def rag_search_tool(query: str) -> str:\n",
    "    \"\"\"Search the knowledge‑base for relevant chunks\"\"\"\n",
    "    results = retriever.invoke(query)\n",
    "    return \"\".join(d.page_content for d in results)"
   ]
  },
  {
   "cell_type": "code",
   "execution_count": 62,
   "id": "7aaddefd",
   "metadata": {},
   "outputs": [
    {
     "name": "stdout",
     "output_type": "stream",
     "text": [
      "RAG results: Anyone AI Inc\n",
      "WILMINGTON, Delaware 19803\n",
      "United States\n",
      "INVOICE\n",
      "Invoice #—0820253413\n",
      "Invoice Date—Aug 01, 2025\n",
      "Invoice Amount—$300.00 (USD)\n",
      "Customer ID—CD-4149\n",
      "PAID\n",
      "BILLED TO\n",
      "Leonardo Burbano\n",
      "Ecuador\n",
      "SUBSCRIPTION\n",
      "ID—S-CD-4149\n",
      "Billing Period—Aug 01 to Aug 31, 2025\n",
      "  \n",
      "DESCRIPTION AMOUNT (USD)\n",
      "  \n",
      "Applicable (10%) Fee for your Workers Benefits Fund Income \n",
      "Applicable (10%) Fee for your Workers Benefits Fund Income\n",
      "$300.00\n",
      "  \n",
      "  \n",
      "Total $300.00\n",
      "Payments($300.00)\n",
      "  \n",
      "  \n",
      "  \n",
      "Amount Due (USD) $0.00\n",
      "  \n",
      "  \n",
      "  \n",
      "PAYMENTS\n",
      "$300.00 (USD) was paid on 06 Aug, 2025 22:08 ART by Visa card ending 2321.\n",
      "NOTES\n",
      "Questions? Contact us at backoffice@anyoneai.comAnyone AI Inc\n",
      "WILMINGTON, Delaware 19803\n",
      "United States\n",
      "INVOICE\n",
      "Invoice #—0820253413\n",
      "Invoice Date—Aug 01, 2025\n",
      "Invoice Amount—$300.00 (USD)\n",
      "Customer ID—CD-4149\n",
      "PAID\n",
      "BILLED TO\n",
      "Leonardo Burbano\n",
      "Ecuador\n",
      "SUBSCRIPTION\n",
      "ID—S-CD-4149\n",
      "Billing Period—Aug 01 to Aug 31, 2025\n",
      "  \n",
      "DESCRIPTION AMOUNT (USD)\n",
      "  \n",
      "Applicable (10%) Fee for your Workers Benefits Fund Income \n",
      "Applicable (10%) Fee for your Workers Benefits Fund Income\n",
      "$300.00\n",
      "  \n",
      "  \n",
      "Total $300.00\n",
      "Payments($300.00)\n",
      "  \n",
      "  \n",
      "  \n",
      "Amount Due (USD) $0.00\n",
      "  \n",
      "  \n",
      "  \n",
      "PAYMENTS\n",
      "$300.00 (USD) was paid on 06 Aug, 2025 22:08 ART by Visa card ending 2321.\n",
      "NOTES\n",
      "Questions? Contact us at backoffice@anyoneai.com\n"
     ]
    }
   ],
   "source": [
    "test_query = \"Invoice description\"\n",
    "results = rag_search_tool.invoke(test_query)\n",
    "print(f\"RAG results: {results}\")"
   ]
  },
  {
   "cell_type": "code",
   "execution_count": 37,
   "id": "3d90343b",
   "metadata": {},
   "outputs": [],
   "source": [
    "from langchain_tavily import TavilySearch\n",
    "\n",
    "tavily = TavilySearch(max_results=3, topic=\"general\")\n",
    "\n",
    "@tool\n",
    "def web_search_tool(query: str) -> str:\n",
    "    \"\"\"Up‑to‑date web info via Tavily\"\"\"\n",
    "    return \"\".join(r[\"content\"] for r in tavily.invoke({\"query\": query})[\"results\"])  # simplified"
   ]
  },
  {
   "cell_type": "code",
   "execution_count": 71,
   "id": "f1b6f7b5",
   "metadata": {},
   "outputs": [],
   "source": [
    "class AgentState(TypedDict):\n",
    "    \"\"\"State for our two-node agent\"\"\"\n",
    "    messages: Annotated[list[BaseMessage], add_messages]\n",
    "    route: str # \"rag\", \"answer\", \"web\", \"end\"\n",
    "    rag: str | None   # KB result\n",
    "    web: str | None   # web‑search snippets"
   ]
  },
  {
   "cell_type": "code",
   "execution_count": 72,
   "id": "f793c0c5",
   "metadata": {},
   "outputs": [],
   "source": [
    "# ── Structured helpers ─────────────────\n",
    "class RouteDecision(BaseModel):\n",
    "    route: Literal[\"rag\", \"answer\", \"end\"]\n",
    "    reply: str | None = None\n",
    "\n",
    "class RagJudge(BaseModel):\n",
    "    sufficient: bool\n",
    "\n",
    "router_llm = ChatOpenAI(model=\"gpt-4.1-mini\", temperature=0).with_structured_output(RouteDecision)\n",
    "judge_llm  = ChatOpenAI(model=\"gpt-4.1-mini\", temperature=0).with_structured_output(RagJudge)\n",
    "answer_llm = ChatOpenAI(model=\"gpt-4.1-mini\", temperature=0.7)"
   ]
  },
  {
   "cell_type": "code",
   "execution_count": 73,
   "id": "33409eee",
   "metadata": {},
   "outputs": [],
   "source": [
    "# Fix the router with better prompting\n",
    "def router_node(state: AgentState) -> AgentState:\n",
    "    q = state[\"messages\"][-1].content\n",
    "    decision = router_llm.invoke([\n",
    "        (\"system\", \"\"\"You are a routing system. Analyze the user's question and decide the best route:\n",
    "\n",
    "- Use \"rag\" for questions about documents, files, knowledge base content, or when user explicitly asks to search documents\n",
    "- Use \"answer\" for general knowledge questions, math problems, or questions that don't need external search\n",
    "- Use \"end\" only for greetings or conversation starters\n",
    "\n",
    "Examples:\n",
    "- \"Search in the knowledge-base, What's the description of the Invoice #0820253413?\" → \"rag\" (document search)\n",
    "- \"What's 15% of 24?\" → \"answer\" (math calculation)\n",
    "- \"What's in my documents?\" → \"rag\" (document search)\n",
    "- \"Hello\" → \"end\" (greeting)\n",
    "\n",
    "Respond with the appropriate route.\"\"\"),\n",
    "        (\"user\", q)\n",
    "    ])\n",
    "    new_state = {**state, \"route\": decision.route}\n",
    "    if decision.route == \"end\":\n",
    "        new_state[\"messages\"] += [AIMessage(content=decision.reply or \"Hello!\")]\n",
    "    return new_state"
   ]
  },
  {
   "cell_type": "code",
   "execution_count": 74,
   "id": "4f1d05b8",
   "metadata": {},
   "outputs": [
    {
     "name": "stdout",
     "output_type": "stream",
     "text": [
      "Router decision: rag\n"
     ]
    }
   ],
   "source": [
    "# Test the router directly\n",
    "test_state = {\n",
    "    \"messages\": [HumanMessage(content=\"Search in the knowledge-base, What's the description of the Invoice #0820253413?\")],\n",
    "    \"route\": \"\",\n",
    "    \"rag\": None,\n",
    "    \"web\": None\n",
    "}\n",
    "router_result = router_node(test_state)\n",
    "print(f\"Router decision: {router_result['route']}\")"
   ]
  },
  {
   "cell_type": "code",
   "execution_count": 75,
   "id": "93a4212a",
   "metadata": {},
   "outputs": [],
   "source": [
    "# ── RAG lookup ─────────────────────────\n",
    "def rag_node(state: AgentState) -> AgentState:\n",
    "    q = state[\"messages\"][-1].content\n",
    "    chunks = rag_search_tool.invoke(q)\n",
    "    print(f\"📄 RAG found chunks: {len(chunks)} characters\")\n",
    "    verdict = judge_llm.invoke([(\"user\", f\"Question: {q}\\nDocs: {chunks[:300]}…\")])\n",
    "    print(f\"⚖️ RAG judge verdict: {verdict.sufficient}\")\n",
    "    result = {**state, \"rag\": chunks, \"route\": \"answer\" if verdict.sufficient else \"web\"}\n",
    "    print(f\"📤 RAG node output: route={result['route']}\")\n",
    "    return result\n"
   ]
  },
  {
   "cell_type": "code",
   "execution_count": 76,
   "id": "734c56e7",
   "metadata": {},
   "outputs": [],
   "source": [
    "# ── Web search ──────────────────────────\n",
    "def web_node(state: AgentState) -> AgentState:\n",
    "    q = state[\"messages\"][-1].content\n",
    "    web = web_search_tool.invoke(q)\n",
    "    return {**state, \"web\": web, \"route\": \"answer\"}\n",
    "\n",
    "# ── Answer ──────────────────────────────\n",
    "def answer_node(state: AgentState) -> AgentState:\n",
    "    q = state[\"messages\"][-1].content\n",
    "    if state[\"rag\"] is not None:\n",
    "        answer = f\"Based on your documents: {state['rag']}\"\n",
    "        print(f\"📚 Using RAG content\")\n",
    "    elif state[\"web\"] is not None:\n",
    "        answer = f\"Based on web search: {state['web']}\"\n",
    "        print(f\"🌐 Using web content\")\n",
    "    else:\n",
    "        print(f\"🤖 Using LLM for answer\")\n",
    "        response = answer_llm.invoke([\n",
    "            (\"system\", \"You are a helpful assistant. Answer the user's question clearly and accurately.\"),\n",
    "            (\"user\", q)\n",
    "        ])\n",
    "        answer = response.content\n",
    "    print(f\"�� Answer node output: {len(answer)} characters\")\n",
    "    return {**state, \"messages\": [AIMessage(content=answer)]}\n"
   ]
  },
  {
   "cell_type": "code",
   "execution_count": 77,
   "id": "d4cf85d2",
   "metadata": {},
   "outputs": [],
   "source": [
    "def from_router(state: AgentState) -> Literal[\"rag\", \"answer\", \"end\"]:\n",
    "    return state[\"route\"]"
   ]
  },
  {
   "cell_type": "code",
   "execution_count": 78,
   "id": "6228a24c",
   "metadata": {},
   "outputs": [],
   "source": [
    "def after_rag(state: AgentState) -> Literal[\"answer\", \"web\"]:\n",
    "    q = state[\"messages\"][-1].content\n",
    "    verdict = judge_llm.invoke([(\"user\", f\"Question: {q}\\nDocs: {state['rag'][:300]}…\")])\n",
    "    return \"answer\" if verdict.sufficient else \"web\""
   ]
  },
  {
   "cell_type": "code",
   "execution_count": 79,
   "id": "b6a93d0d",
   "metadata": {},
   "outputs": [],
   "source": [
    "agent_graph = StateGraph(AgentState)\n",
    "agent_graph.add_node(\"router\",      router_node)\n",
    "agent_graph.add_node(\"rag_lookup\",  rag_node)\n",
    "agent_graph.add_node(\"web_search\",  web_node)\n",
    "agent_graph.add_node(\"answer\",      answer_node)\n",
    "\n",
    "agent_graph.set_entry_point(\"router\")\n",
    "agent_graph.add_conditional_edges(\"router\", from_router,\n",
    "        {\"rag\": \"rag_lookup\", \"answer\": \"answer\", \"end\": END})\n",
    "agent_graph.add_conditional_edges(\"rag_lookup\", after_rag,\n",
    "        {\"answer\": \"answer\", \"web\": \"web_search\"})\n",
    "agent_graph.add_edge(\"web_search\", \"answer\")\n",
    "agent_graph.add_edge(\"answer\", END)\n",
    "\n",
    "agent = agent_graph.compile(checkpointer=MemorySaver())\n"
   ]
  },
  {
   "cell_type": "code",
   "execution_count": 80,
   "id": "385c70b1",
   "metadata": {},
   "outputs": [
    {
     "data": {
      "image/png": "[encoded data removed]",
      "text/plain": [
       "<IPython.core.display.Image object>"
      ]
     },
     "metadata": {},
     "output_type": "display_data"
    }
   ],
   "source": [
    "from IPython.display import Image, display\n",
    "img = agent.get_graph(xray=True).draw_mermaid_png()\n",
    "with open(\"graph.png\", \"wb\") as f:\n",
    "    f.write(img)\n",
    "display(Image(\"graph.png\"))"
   ]
  },
  {
   "cell_type": "code",
   "execution_count": 82,
   "id": "a7bdaebc",
   "metadata": {},
   "outputs": [],
   "source": [
    "def test_aget_rag(agent, message: str, thread_id: str):\n",
    "    config = {\"configurable\": {\"thread_id\": thread_id}}\n",
    "    result = agent.invoke({\"messages\": [HumanMessage(content=message)]}, config)\n",
    "    print(result[\"messages\"][-1].content)\n",
    "\n",
    "#test_aget_rag(agent, \"Search in th knowledge‑base, What's the description of the Invoice #— 0820253413?\", \"thread‑13\")"
   ]
  },
  {
   "cell_type": "code",
   "execution_count": null,
   "id": "22ba5fcb",
   "metadata": {},
   "outputs": [],
   "source": []
  }
 ],
 "metadata": {
  "kernelspec": {
   "display_name": ".venv",
   "language": "python",
   "name": "python3"
  },
  "language_info": {
   "codemirror_mode": {
    "name": "ipython",
    "version": 3
   },
   "file_extension": ".py",
   "mimetype": "text/x-python",
   "name": "python",
   "nbconvert_exporter": "python",
   "pygments_lexer": "ipython3",
   "version": "3.13.2"
  }
 },
 "nbformat": 4,
 "nbformat_minor": 5
}
