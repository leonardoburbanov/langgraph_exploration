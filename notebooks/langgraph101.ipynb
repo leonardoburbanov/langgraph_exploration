{
 "cells": [
  {
   "cell_type": "code",
   "execution_count": null,
   "id": "fa1fbd90",
   "metadata": {},
   "outputs": [
    {
     "name": "stdout",
     "output_type": "stream",
     "text": [
      "The capital of France is Paris.\n",
      "The capital of France is Paris.\n",
      "I don't have real-time weather data, but you can easily check the current weather in Tokyo by using a weather website or app. Typically, these platforms provide up-to-date information on temperature, humidity, precipitation, and forecasts. Would you like some tips on how to find this information?\n",
      "Testing calculator tool\n",
      "\n"
     ]
    }
   ],
   "source": [
    "from dotenv import load_dotenv\n",
    "load_dotenv()\n",
    "\n",
    "from langchain_openai import ChatOpenAI\n",
    "\n",
    "llm = ChatOpenAI(model=\"gpt-4o-mini\", temperature=0.7)\n",
    "response = llm.invoke(\"What is the capital of France?\")\n",
    "print(response.content)\n",
    "\n",
    "from langchain_openai import ChatOpenAI\n",
    "\n",
    "llm = ChatOpenAI(model=\"gpt-4o-mini\", temperature=0.7)\n",
    "response = llm.invoke(\"What is the capital of France?\")\n",
    "print(response.content)\n",
    "\n",
    "from langchain_core.messages import HumanMessage, SystemMessage\n",
    "messages = [\n",
    "    SystemMessage(content=\"You are a helpful assistant that can answer questions about the weather.\"),\n",
    "    HumanMessage(content=\"What is the weather in Tokyo?\")\n",
    "]\n",
    "\n",
    "response = llm.invoke(messages)\n",
    "print(response.content)\n"
   ]
  },
  {
   "cell_type": "code",
   "execution_count": 25,
   "id": "d037fe56",
   "metadata": {},
   "outputs": [
    {
     "name": "stdout",
     "output_type": "stream",
     "text": [
      "Testing calculator tool\n",
      "\n"
     ]
    }
   ],
   "source": [
    "from langchain_core.tools import tool\n",
    "from langchain_community.tools import DuckDuckGoSearchRun\n",
    "\n",
    "@tool\n",
    "def calculator(expression: str) -> str:\n",
    "    \"\"\"Calculate mathematical expressions. Allways use this for any math calculations.\"\"\"\n",
    "    try:\n",
    "        result = eval(expression)\n",
    "        return f\"The result of the expression {expression} is {result}\"\n",
    "    except Exception as e:\n",
    "        return f\"Error calcuating {expression}: {e}\"\n",
    "    \n",
    "\n",
    "search_tool = DuckDuckGoSearchRun()\n",
    "\n",
    "# Bind tools to the LLM\n",
    "tools = [calculator, search_tool]\n",
    "llm_with_tools = llm.bind_tools(tools)\n",
    "\n",
    "print(\"Testing calculator tool\")\n",
    "response = llm_with_tools.invoke(\"What is 25 * 4 + 17?\")\n",
    "print(response.content)"
   ]
  },
  {
   "cell_type": "code",
   "execution_count": 26,
   "id": "9d6ee521",
   "metadata": {},
   "outputs": [
    {
     "data": {
      "text/plain": [
       "AIMessage(content='', additional_kwargs={'tool_calls': [{'id': 'call_1M9wj3z9Mp3aE5FjVIKhnDIr', 'function': {'arguments': '{\"expression\":\"25 * 4 + 17\"}', 'name': 'calculator'}, 'type': 'function'}], 'refusal': None}, response_metadata={'token_usage': {'completion_tokens': 20, 'prompt_tokens': 110, 'total_tokens': 130, 'completion_tokens_details': {'accepted_prediction_tokens': 0, 'audio_tokens': 0, 'reasoning_tokens': 0, 'rejected_prediction_tokens': 0}, 'prompt_tokens_details': {'audio_tokens': 0, 'cached_tokens': 0}}, 'model_name': 'gpt-4o-mini-2024-07-18', 'system_fingerprint': 'fp_34a54ae93c', 'id': 'chatcmpl-ByeiLIKEPl6pXGWqp0YM1ZyhznZvP', 'service_tier': 'default', 'finish_reason': 'tool_calls', 'logprobs': None}, id='run--8a5c5f80-4f13-4e76-bcd2-e12dacf80584-0', tool_calls=[{'name': 'calculator', 'args': {'expression': '25 * 4 + 17'}, 'id': 'call_1M9wj3z9Mp3aE5FjVIKhnDIr', 'type': 'tool_call'}], usage_metadata={'input_tokens': 110, 'output_tokens': 20, 'total_tokens': 130, 'input_token_details': {'audio': 0, 'cache_read': 0}, 'output_token_details': {'audio': 0, 'reasoning': 0}})"
      ]
     },
     "execution_count": 26,
     "metadata": {},
     "output_type": "execute_result"
    }
   ],
   "source": [
    "response"
   ]
  },
  {
   "cell_type": "code",
   "execution_count": 27,
   "id": "d79aac81",
   "metadata": {},
   "outputs": [],
   "source": [
    "tool_map = {\n",
    "    \"calculator\": calculator,\n",
    "    \"duckduckgo_search\": DuckDuckGoSearchRun()\n",
    "}"
   ]
  },
  {
   "cell_type": "code",
   "execution_count": 28,
   "id": "b01aa75d",
   "metadata": {},
   "outputs": [],
   "source": [
    "def handle_tool_calls(response, tool_map):\n",
    "    \"\"\"Executes all tool calls in the LLM response using the tool map.\"\"\"\n",
    "    if not getattr(response, \"tool_calls\", None):\n",
    "        return response\n",
    "    print(f\"Tool calls requested: {len(response.tool_calls)}\")\n",
    "    for tool_call in response.tool_calls:\n",
    "        tool_name = tool_call[\"name\"]\n",
    "        args = tool_call[\"args\"]\n",
    "\n",
    "        print(f\"Tool: {tool_name}\")\n",
    "        print(f\"Args: {args}\")\n",
    "        \n",
    "        tool = tool_map.get(tool_name)\n",
    "        if tool:\n",
    "            result = tool.invoke(args)\n",
    "            preview = result[:200] + \"...\" if isinstance(result, str) and len(result) > 200 else result\n",
    "            print(f\"Tool result: {preview}\")"
   ]
  },
  {
   "cell_type": "code",
   "execution_count": 29,
   "id": "5819558a",
   "metadata": {},
   "outputs": [
    {
     "name": "stdout",
     "output_type": "stream",
     "text": [
      "Query: What is 25 * 4 + 17?\n",
      "Response: \n",
      "Tool calls requested: 1\n",
      "Tool: calculator\n",
      "Args: {'expression': '25 * 4 + 17'}\n",
      "Tool result: The result of the expression 25 * 4 + 17 is 117\n",
      "\n",
      "\n",
      "Query: Search for the latest news abount Artificial Intelligence.\n",
      "Response: \n",
      "Tool calls requested: 1\n",
      "Tool: duckduckgo_search\n",
      "Args: {'query': 'latest news about Artificial Intelligence'}\n"
     ]
    },
    {
     "name": "stderr",
     "output_type": "stream",
     "text": [
      "c:\\Portfolio\\langgraph_exploration\\.venv\\Lib\\site-packages\\langchain_community\\utilities\\duckduckgo_search.py:63: RuntimeWarning: This package (`duckduckgo_search`) has been renamed to `ddgs`! Use `pip install ddgs` instead.\n",
      "  with DDGS() as ddgs:\n"
     ]
    },
    {
     "name": "stdout",
     "output_type": "stream",
     "text": [
      "Tool result: Jun 25, 2025 · Artificial Intelligence News. Everything on AI including futuristic robots with artificial intelligence, computer models of human intelligence and more. A Taruma Baterias oferece bateri...\n",
      "\n",
      "\n"
     ]
    }
   ],
   "source": [
    "def test_llm_tool(query):\n",
    "    print(f\"Query: {query}\")\n",
    "    response = llm_with_tools.invoke(query)\n",
    "    print(f\"Response: {getattr(response, 'content', response)}\")\n",
    "    handle_tool_calls(response, tool_map)\n",
    "    print(\"\\n\")\n",
    "\n",
    "\n",
    "test_llm_tool(\"What is 25 * 4 + 17?\")\n",
    "test_llm_tool(\"Search for the latest news abount Artificial Intelligence.\")"
   ]
  },
  {
   "cell_type": "markdown",
   "id": "bba45b4d",
   "metadata": {},
   "source": [
    "Structured Output"
   ]
  },
  {
   "cell_type": "code",
   "execution_count": 33,
   "id": "5b649deb",
   "metadata": {},
   "outputs": [
    {
     "name": "stdout",
     "output_type": "stream",
     "text": [
      "Testing structured output\n",
      "name='John Smith' age=30 occupation='software engineer' skills=['Python', 'SQL', 'machine learning']\n",
      "Name:  John Smith\n",
      "Age:  30\n",
      "Occupation:  software engineer\n",
      "Skills:  Python, SQL, machine learning\n"
     ]
    }
   ],
   "source": [
    "from pydantic import BaseModel, Field\n",
    "from typing import List, Optional\n",
    "\n",
    "class PersonInfo(BaseModel):\n",
    "    \"\"\"Information about a person.\"\"\"\n",
    "    name: str = Field(description=\"The full name of the person.\")\n",
    "    age: int = Field(description=\"The age of the person.\")\n",
    "    occupation: Optional[str] = Field(description=\"The occupation of the person.\")\n",
    "    skills: List[str] = Field(description=\"The skills of the person.\")\n",
    "\n",
    "structured_llm = llm.with_structured_output(PersonInfo)\n",
    "\n",
    "\n",
    "#Test with person info\n",
    "print(\"Testing structured output\")\n",
    "\n",
    "person_prompt = \"\"\"\n",
    "Extract information about the person:\n",
    "\"John Smith is 30 years old and works as a software engineer. He is skilled in Python, SQL, and machine learning.\"\n",
    "\"\"\"\n",
    "\n",
    "response = structured_llm.invoke(person_prompt)\n",
    "print(response)\n",
    "\n",
    "\n",
    "print(\"Name: \", response.name)\n",
    "print(\"Age: \", response.age)\n",
    "print(\"Occupation: \", response.occupation)\n",
    "print(\"Skills: \", \", \".join(response.skills))"
   ]
  },
  {
   "cell_type": "markdown",
   "id": "6493f753",
   "metadata": {},
   "source": [
    "Langgraph Básico"
   ]
  },
  {
   "cell_type": "code",
   "execution_count": 34,
   "id": "14b5d729",
   "metadata": {},
   "outputs": [],
   "source": [
    "from typing import Annotated, TypedDict\n",
    "from langchain_core.messages import BaseMessage, HumanMessage, AIMessage\n",
    "from langgraph.graph.message import add_messages"
   ]
  },
  {
   "cell_type": "code",
   "execution_count": 35,
   "id": "b897c8e1",
   "metadata": {},
   "outputs": [],
   "source": [
    "from typing import Annotated, TypedDict\n",
    "from langchain_core.messages import BaseMessage, HumanMessage, AIMessage\n",
    "from langgraph.graph.message import add_messages\n",
    "\n",
    "class State(TypedDict):\n",
    "    messages: Annotated[list[BaseMessage], add_messages]\n",
    "\n",
    "llm = ChatOpenAI(model=\"gpt-4o-mini\", temperature=0.7)"
   ]
  },
  {
   "cell_type": "code",
   "execution_count": 36,
   "id": "94b69a7a",
   "metadata": {},
   "outputs": [
    {
     "name": "stdout",
     "output_type": "stream",
     "text": [
      "Chatbot node function created\n"
     ]
    }
   ],
   "source": [
    "def chatbot_node(state: State) -> State:\n",
    "    \"\"\"The main chatbot node that processes messages and generates responses.\"\"\"\n",
    "    response = llm.invoke(state[\"messages\"])\n",
    "    return {\"messages\": [response]}\n",
    "\n",
    "print(\"Chatbot node function created\")"
   ]
  },
  {
   "cell_type": "code",
   "execution_count": 37,
   "id": "b7bffe4e",
   "metadata": {},
   "outputs": [],
   "source": [
    "from langgraph.graph import StateGraph, START, END"
   ]
  },
  {
   "cell_type": "code",
   "execution_count": 38,
   "id": "9988879f",
   "metadata": {},
   "outputs": [],
   "source": [
    "graph_builder = StateGraph(State)\n",
    "\n",
    "graph_builder.add_node(\"chatbot\", chatbot_node)\n",
    "\n",
    "graph_builder.add_edge(START, \"chatbot\")\n",
    "graph_builder.add_edge(\"chatbot\", END)\n",
    "\n",
    "\n",
    "graph = graph_builder.compile()"
   ]
  },
  {
   "cell_type": "code",
   "execution_count": 39,
   "id": "8ea9c2f3",
   "metadata": {},
   "outputs": [],
   "source": [
    "img = graph.get_graph(xray=True).draw_mermaid_png()\n",
    "with open(\"graph.png\", \"wb\") as f:\n",
    "    f.write(img)"
   ]
  },
  {
   "cell_type": "code",
   "execution_count": 40,
   "id": "15ead163",
   "metadata": {},
   "outputs": [
    {
     "data": {
      "image/png": "[encoded data removed]",
      "text/plain": [
       "<IPython.core.display.Image object>"
      ]
     },
     "metadata": {},
     "output_type": "display_data"
    }
   ],
   "source": [
    "from IPython.display import Image, display\n",
    "display(Image(\"graph.png\"))"
   ]
  },
  {
   "cell_type": "code",
   "execution_count": 41,
   "id": "062dcf82",
   "metadata": {},
   "outputs": [
    {
     "name": "stdout",
     "output_type": "stream",
     "text": [
      "User: Hello! My name is Leonardo?\n",
      "AI: Hello, Leonardo! How can I assist you today?\n",
      "User: Do you remember my name?\n",
      "AI: I don’t have the ability to remember personal information or previous interactions. However, I'm here to help with any questions or topics you want to discuss! What would you like to talk about?\n"
     ]
    }
   ],
   "source": [
    "def test_chatbot(message: str):\n",
    "    \"\"\"Helper function to test our chatbot.\"\"\"\n",
    "    print(f\"User: {message}\")\n",
    "\n",
    "    initial_state = {\"messages\": [HumanMessage(content=message)]}\n",
    "    result = graph.invoke(initial_state)\n",
    "\n",
    "    ai_response = result[\"messages\"][-1].content\n",
    "    print(f\"AI: {ai_response}\")\n",
    "    return result\n",
    "\n",
    "test_cases = [\n",
    "    \"Hello! My name is Leonardo?\",\n",
    "    \"Do you remember my name?\"\n",
    "]\n",
    "\n",
    "for test_message in test_cases:\n",
    "    test_chatbot(test_message)"
   ]
  },
  {
   "cell_type": "markdown",
   "id": "ea072c2f",
   "metadata": {},
   "source": [
    "Adding memory"
   ]
  },
  {
   "cell_type": "code",
   "execution_count": 43,
   "id": "c0b92919",
   "metadata": {},
   "outputs": [],
   "source": [
    "from langgraph.checkpoint.memory import MemorySaver"
   ]
  },
  {
   "cell_type": "code",
   "execution_count": 46,
   "id": "2b854d3f",
   "metadata": {},
   "outputs": [
    {
     "name": "stdout",
     "output_type": "stream",
     "text": [
      "Memory added to chatbot\n"
     ]
    }
   ],
   "source": [
    "memory = MemorySaver()\n",
    "\n",
    "graph_with_memory = graph_builder.compile(checkpointer=memory)\n",
    "\n",
    "print(\"Memory added to chatbot\")\n",
    "\n",
    "def chat_with_memory(message: str, thread_id: str):\n",
    "    \"\"\"Chat function with memory\"\"\"\n",
    "    print(f\"\\n User: {message}\")\n",
    "\n",
    "    config = {\"configurable\": {\"thread_id\": thread_id}}\n",
    "\n",
    "    initial_state = {\"messages\": [HumanMessage(content=message)]}\n",
    "    result = graph_with_memory.invoke(initial_state, config)\n",
    "\n",
    "    ai_response = result[\"messages\"][-1].content\n",
    "    print(f\"AI: {ai_response}\")\n",
    "    return result"
   ]
  },
  {
   "cell_type": "code",
   "execution_count": 47,
   "id": "d20e2845",
   "metadata": {},
   "outputs": [
    {
     "name": "stdout",
     "output_type": "stream",
     "text": [
      "\n",
      " Testing Conversation with Memory:\n",
      "\n",
      " User: Hello! My name is Leonardo\n",
      "AI: Hello, Leonardo! How can I assist you today?\n",
      "\n",
      " User: What is my name?\n",
      "AI: Your name is Leonardo! How can I assist you today?\n"
     ]
    },
    {
     "data": {
      "text/plain": [
       "{'messages': [HumanMessage(content='Hello! My name is Leonardo', additional_kwargs={}, response_metadata={}, id='4a173cb2-5fed-4f7b-8686-fe1305b6774c'),\n",
       "  AIMessage(content='Hello, Leonardo! How can I assist you today?', additional_kwargs={'refusal': None}, response_metadata={'token_usage': {'completion_tokens': 11, 'prompt_tokens': 13, 'total_tokens': 24, 'completion_tokens_details': {'accepted_prediction_tokens': 0, 'audio_tokens': 0, 'reasoning_tokens': 0, 'rejected_prediction_tokens': 0}, 'prompt_tokens_details': {'audio_tokens': 0, 'cached_tokens': 0}}, 'model_name': 'gpt-4o-mini-2024-07-18', 'system_fingerprint': 'fp_34a54ae93c', 'id': 'chatcmpl-ByjxQl5enFzOUrCGpS8KQhC3CCg9K', 'service_tier': 'default', 'finish_reason': 'stop', 'logprobs': None}, id='run--7dd02a01-8ac6-4117-bed3-001d7c8e56f6-0', usage_metadata={'input_tokens': 13, 'output_tokens': 11, 'total_tokens': 24, 'input_token_details': {'audio': 0, 'cache_read': 0}, 'output_token_details': {'audio': 0, 'reasoning': 0}}),\n",
       "  HumanMessage(content='What is my name?', additional_kwargs={}, response_metadata={}, id='6496949b-2c3e-4045-ae02-fb1d7e209634'),\n",
       "  AIMessage(content='Your name is Leonardo! How can I assist you today?', additional_kwargs={'refusal': None}, response_metadata={'token_usage': {'completion_tokens': 12, 'prompt_tokens': 37, 'total_tokens': 49, 'completion_tokens_details': {'accepted_prediction_tokens': 0, 'audio_tokens': 0, 'reasoning_tokens': 0, 'rejected_prediction_tokens': 0}, 'prompt_tokens_details': {'audio_tokens': 0, 'cached_tokens': 0}}, 'model_name': 'gpt-4o-mini-2024-07-18', 'system_fingerprint': 'fp_34a54ae93c', 'id': 'chatcmpl-ByjxRcEncHCki1ajaiLO4geeST70z', 'service_tier': 'default', 'finish_reason': 'stop', 'logprobs': None}, id='run--1eb1abea-b97b-4120-a63f-59ab4f680f7e-0', usage_metadata={'input_tokens': 37, 'output_tokens': 12, 'total_tokens': 49, 'input_token_details': {'audio': 0, 'cache_read': 0}, 'output_token_details': {'audio': 0, 'reasoning': 0}})]}"
      ]
     },
     "execution_count": 47,
     "metadata": {},
     "output_type": "execute_result"
    }
   ],
   "source": [
    "print(\"\\n Testing Conversation with Memory:\")\n",
    "\n",
    "chat_with_memory(\"Hello! My name is Leonardo\", thread_id=\"thead-1\")\n",
    "chat_with_memory(\"What is my name?\", thread_id=\"thead-1\")\n"
   ]
  },
  {
   "cell_type": "code",
   "execution_count": 48,
   "id": "df24acfd",
   "metadata": {},
   "outputs": [],
   "source": [
    "from typing import TypedDict\n",
    "\n",
    "class AgentState(TypedDict):\n",
    "    \"\"\"State for our two-node agent\"\"\"\n",
    "    messages: list[BaseMessage]\n",
    "\n",
    "llm = ChatOpenAI(model=\"gpt-4o-mini\", temperature=0.7)\n",
    "llm_with_tools = llm.bind_tools(tools)"
   ]
  },
  {
   "cell_type": "code",
   "execution_count": 49,
   "id": "877bc471",
   "metadata": {},
   "outputs": [],
   "source": [
    "def chatbot_node(state: AgentState) -> AgentState:\n",
    "    \"\"\"The chatbot node decides whether to use tools or provide direct responses\"\"\"\n",
    "    messages = state[\"messages\"]\n",
    "\n",
    "\n",
    "    system_message = \"\"\"\n",
    "    You are a helpful assistant. You have access to web search and calculator tools.\n",
    "\n",
    "    Use the web_search tool when:\n",
    "    - Asked about current events, news, or recent information.\n",
    "    - Need to find specific facts or data.\n",
    "    - Asked about real-time information (weather, stock prices, etc.)\n",
    "\n",
    "    Use the calculator tool when:\n",
    "    - Asked to perform mathematical calculations.\n",
    "    - Need to solve math problems.\n",
    "\n",
    "    For general knowledge questions that don't require real-time data, answer directly.\n",
    "    Be helpful and conversational in your responses.\n",
    "    \"\"\"\n",
    "\n",
    "    all_messages = [\n",
    "        {\"role\": \"system\", \"content\": system_message}\n",
    "    ] + messages\n",
    "\n",
    "    response = llm_with_tools.invoke(all_messages)\n",
    "\n",
    "    return {\"messages\": [response]}\n",
    "\n",
    "\n",
    "\n",
    "\n"
   ]
  },
  {
   "cell_type": "code",
   "execution_count": 50,
   "id": "193010aa",
   "metadata": {},
   "outputs": [],
   "source": [
    "from langgraph.prebuilt import ToolNode\n",
    "from typing import Literal"
   ]
  },
  {
   "cell_type": "code",
   "execution_count": 51,
   "id": "4dedd58c",
   "metadata": {},
   "outputs": [
    {
     "data": {
      "text/plain": [
       "[StructuredTool(name='calculator', description='Calculate mathematical expressions. Allways use this for any math calculations.', args_schema=<class 'langchain_core.utils.pydantic.calculator'>, func=<function calculator at 0x000002596E8F9440>),\n",
       " DuckDuckGoSearchRun(api_wrapper=DuckDuckGoSearchAPIWrapper(region='wt-wt', safesearch='moderate', time='y', max_results=5, backend='auto', source='text'))]"
      ]
     },
     "execution_count": 51,
     "metadata": {},
     "output_type": "execute_result"
    }
   ],
   "source": [
    "tools"
   ]
  },
  {
   "cell_type": "code",
   "execution_count": null,
   "id": "1f1dd37f",
   "metadata": {},
   "outputs": [],
   "source": [
    "tool_node = ToolNode(tools)\n",
    "print(\"Tool node created\")\n",
    "\n",
    "def should_continue(state: AgentState) -> Literal[\"tool\", \"end\"]:\n",
    "    \"\"\"\n",
    "    Determine whether to continue to tools or end the conversation\n",
    "    \"\"\"\n",
    "    messages = state[\"messages\"]\n",
    "    last_message = messages[-1]\n",
    "\n",
    "    \n",
    "\n",
    "\n",
    "\n",
    "\n",
    "\n"
   ]
  }
 ],
 "metadata": {
  "kernelspec": {
   "display_name": ".venv",
   "language": "python",
   "name": "python3"
  },
  "language_info": {
   "codemirror_mode": {
    "name": "ipython",
    "version": 3
   },
   "file_extension": ".py",
   "mimetype": "text/x-python",
   "name": "python",
   "nbconvert_exporter": "python",
   "pygments_lexer": "ipython3",
   "version": "3.13.2"
  }
 },
 "nbformat": 4,
 "nbformat_minor": 5
}
